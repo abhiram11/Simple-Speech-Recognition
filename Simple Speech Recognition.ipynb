{
 "cells": [
  {
   "cell_type": "code",
   "execution_count": 4,
   "metadata": {},
   "outputs": [],
   "source": [
    "import speech_recognition\n",
    "import pyttsx3\n",
    "import time"
   ]
  },
  {
   "cell_type": "code",
   "execution_count": 5,
   "metadata": {},
   "outputs": [],
   "source": [
    "recognizer = speech_recognition.Recognizer()"
   ]
  },
  {
   "cell_type": "code",
   "execution_count": 7,
   "metadata": {},
   "outputs": [
    {
     "name": "stdout",
     "output_type": "stream",
     "text": [
      "Recognized : hello hello this is abhiram testing speech recognition code thank you\n"
     ]
    }
   ],
   "source": [
    "start = time.time()\n",
    "while True:\n",
    "\n",
    "    try:\n",
    "        with speech_recognition.Microphone() as mic:\n",
    "            recognizer.adjust_for_ambient_noise(mic, duration=0.2)\n",
    "            audio = recognizer.listen(mic)\n",
    "            \n",
    "            text = recognizer.recognize_google(audio_data=audio)\n",
    "            text = text.lower()\n",
    "            \n",
    "            print(\"Recognized : {}\".format(text))\n",
    "            \n",
    "            if time.time() - start > 10:\n",
    "                break\n",
    "                \n",
    "    except speech_recognition.UnknownValueError as e:\n",
    "        \n",
    "        recognizer = speech_recognition.Recognizer()\n",
    "        continue # so loop doesn't stop"
   ]
  },
  {
   "cell_type": "code",
   "execution_count": null,
   "metadata": {},
   "outputs": [],
   "source": []
  }
 ],
 "metadata": {
  "kernelspec": {
   "display_name": "Python 3",
   "language": "python",
   "name": "python3"
  },
  "language_info": {
   "codemirror_mode": {
    "name": "ipython",
    "version": 3
   },
   "file_extension": ".py",
   "mimetype": "text/x-python",
   "name": "python",
   "nbconvert_exporter": "python",
   "pygments_lexer": "ipython3",
   "version": "3.8.5"
  }
 },
 "nbformat": 4,
 "nbformat_minor": 4
}
